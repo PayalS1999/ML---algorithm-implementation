{
 "cells": [
  {
   "cell_type": "code",
   "execution_count": 1,
   "metadata": {},
   "outputs": [],
   "source": [
    "import pandas as pd\n",
    "import matplotlib.pyplot as plt\n",
    "import numpy as np\n",
    "import math\n",
    "\n",
    "\n",
    "def Euclidian_Distance(x,y):\n",
    "    sum=0\n",
    "    for i in range(len(x)):\n",
    "        sum+= (x[i]-y[i])**2\n",
    "    p= math.sqrt(sum)\n",
    "    return p"
   ]
  },
  {
   "cell_type": "code",
   "execution_count": 12,
   "metadata": {},
   "outputs": [],
   "source": [
    "def heirarchical_algorithm(df):\n",
    "    arr_len= len(df)\n",
    "    num_cols= len(df.columns)\n",
    "    dist_mat= np.zeros((arr_len,arr_len))\n",
    "    for i in range(arr_len):\n",
    "        for j in range(i+1,arr_len):\n",
    "            a=[]\n",
    "            b=[]\n",
    "            for k in df.columns:\n",
    "                a.append(df.at[i,k])\n",
    "                b.append(df.at[j,k])\n",
    "\n",
    "            d= Euclidian_Distance(a,b)\n",
    "            dist_mat[i][j]=d\n",
    "    original_mat = dist_mat.copy()\n",
    "    while(arr_len>1):\n",
    "        for i in range(arr_len):\n",
    "            for j in range(i+1,arr_len):\n",
    "                dist_mat[j][i]= dist_mat[i][j]\n",
    "\n",
    "        m=dist_mat[0][1]\n",
    "        row=1\n",
    "        col=0\n",
    "        for i in range(arr_len):\n",
    "            for j in range(i+1,arr_len):\n",
    "                if m>dist_mat[i][j]:\n",
    "                    m=dist_mat[i][j]\n",
    "                    row=i\n",
    "                    col=j\n",
    "\n",
    "        print('\\n\\nmin=',m)\n",
    "        min_val= min(row,col)\n",
    "        max_val= max(row,col)\n",
    "    \n",
    "        arr= np.array(dist_mat)\n",
    "        print(arr)\n",
    "    \n",
    "        arr_len-=1\n",
    "        if arr_len==1:\n",
    "            break\n",
    "    \n",
    "        dist_mat= np.zeros((arr_len,arr_len))\n",
    "    \n",
    "        for i in range(arr_len+1):\n",
    "            for j in range(i+1,arr_len+1):\n",
    "            \n",
    "                if j==max_val or i==max_val:\n",
    "                    continue\n",
    "            \n",
    "                if i==min_val or j==min_val:\n",
    "                    r=i\n",
    "                    c=j\n",
    "                    if j==min_val:\n",
    "                        if i>max_val:\n",
    "                            r=i-1\n",
    "                            \n",
    "                        elif j>max_val:\n",
    "                            c=j-1\n",
    "                        dist_mat[r][c]= min(arr[i][min_val],arr[i][max_val])\n",
    "                        \n",
    "                    elif i==min_val:\n",
    "                        if i>max_val:\n",
    "                            r=i-1\n",
    "                            \n",
    "                        elif j>max_val:\n",
    "                            c=j-1\n",
    "                        dist_mat[r][c]= min(arr[min_val][j],arr[max_val][j])\n",
    "                    continue\n",
    "            \n",
    "                if i>max_val or j>max_val:\n",
    "                    if j>max_val and i>max_val:\n",
    "                        dist_mat[i-1][j-1]= arr[i][j]\n",
    "                    elif j>max_val:\n",
    "                        dist_mat[i][j-1]= arr[i][j]\n",
    "                    elif i>max_val:\n",
    "                        dist_mat[i-1][j]= arr[i][j]\n",
    "\n",
    "                else:\n",
    "                    dist_mat[i][j]= arr[i][j]\n",
    "    return original_mat"
   ]
  },
  {
   "cell_type": "code",
   "execution_count": 16,
   "metadata": {},
   "outputs": [
    {
     "name": "stdout",
     "output_type": "stream",
     "text": [
      "\n",
      "\n",
      "min= 0.5\n",
      "[[0.         0.70710678 5.65685425 3.60555128 4.24264069 3.20156212]\n",
      " [0.70710678 0.         4.94974747 2.91547595 3.53553391 2.5       ]\n",
      " [5.65685425 4.94974747 0.         2.23606798 1.41421356 2.5       ]\n",
      " [3.60555128 2.91547595 2.23606798 0.         1.         0.5       ]\n",
      " [4.24264069 3.53553391 1.41421356 1.         0.         1.11803399]\n",
      " [3.20156212 2.5        2.5        0.5        1.11803399 0.        ]]\n",
      "\n",
      "\n",
      "min= 0.7071067811865476\n",
      "[[0.         0.70710678 5.65685425 3.20156212 4.24264069]\n",
      " [0.70710678 0.         4.94974747 2.5        3.53553391]\n",
      " [5.65685425 4.94974747 0.         2.23606798 1.41421356]\n",
      " [3.20156212 2.5        2.23606798 0.         1.        ]\n",
      " [4.24264069 3.53553391 1.41421356 1.         0.        ]]\n",
      "\n",
      "\n",
      "min= 1.0\n",
      "[[0.         4.94974747 2.5        3.53553391]\n",
      " [4.94974747 0.         2.23606798 1.41421356]\n",
      " [2.5        2.23606798 0.         1.        ]\n",
      " [3.53553391 1.41421356 1.         0.        ]]\n",
      "\n",
      "\n",
      "min= 1.4142135623730951\n",
      "[[0.         4.94974747 2.5       ]\n",
      " [4.94974747 0.         1.41421356]\n",
      " [2.5        1.41421356 0.        ]]\n",
      "\n",
      "\n",
      "min= 2.5\n",
      "[[0.  2.5]\n",
      " [2.5 0. ]]\n"
     ]
    }
   ],
   "source": [
    "df= pd.read_csv(\"hier.csv\")\n",
    "cluster_points= heirarchical_algorithm(df)"
   ]
  },
  {
   "cell_type": "code",
   "execution_count": 25,
   "metadata": {},
   "outputs": [
    {
     "data": {
      "image/png": "[encoded data removed]",
      "text/plain": [
       "<Figure size 1080x576 with 2 Axes>"
      ]
     },
     "metadata": {
      "needs_background": "light"
     },
     "output_type": "display_data"
    }
   ],
   "source": [
    "from scipy.cluster.hierarchy import dendrogram, linkage\n",
    "from scipy.spatial.distance import squareform\n",
    "\n",
    "fig,ax=plt.subplots(1,2, figsize=(15,8))\n",
    "ax[0].scatter(df['x1'],df['x2'])\n",
    "ax[0].set_title(\"Before clustering\")\n",
    "\n",
    "shape = cluster_points.shape\n",
    "for i in range(shape[0]):\n",
    "    for j in range(i+1,shape[1]):\n",
    "        cluster_points[j][i]= cluster_points[i][j]\n",
    "\n",
    "dists = squareform(cluster_points)\n",
    "linkage_matrix = linkage(dists, \"single\")\n",
    "dendrogram(linkage_matrix)\n",
    "plt.title(\"Dendogram\")\n",
    "plt.show()"
   ]
  }
 ],
 "metadata": {
  "kernelspec": {
   "display_name": "Python 3",
   "language": "python",
   "name": "python3"
  },
  "language_info": {
   "codemirror_mode": {
    "name": "ipython",
    "version": 3
   },
   "file_extension": ".py",
   "mimetype": "text/x-python",
   "name": "python",
   "nbconvert_exporter": "python",
   "pygments_lexer": "ipython3",
   "version": "3.8.5"
  }
 },
 "nbformat": 4,
 "nbformat_minor": 4
}
