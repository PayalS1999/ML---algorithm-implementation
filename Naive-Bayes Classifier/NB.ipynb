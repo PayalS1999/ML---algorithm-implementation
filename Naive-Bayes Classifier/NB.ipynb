{
 "cells": [
  {
   "cell_type": "code",
   "execution_count": 1,
   "metadata": {},
   "outputs": [],
   "source": [
    "import pandas as pd\n",
    "\n",
    "def find_probability(class_val, col, col_val, df, class_count, class_col_num):\n",
    "    \n",
    "    p=0;\n",
    "    for i,j in zip(df[df.columns[class_col_num]],df[col]):\n",
    "        if (i==class_val) and (j==col_val):\n",
    "            p+=1\n",
    "    p/=class_count\n",
    "    return p"
   ]
  },
  {
   "cell_type": "code",
   "execution_count": 2,
   "metadata": {},
   "outputs": [],
   "source": [
    "def NB_Classifier(name,test):\n",
    "    \n",
    "    df= pd.read_csv(name)\n",
    "    attributes = list(df.columns)\n",
    "    attributes= attributes[:-1]\n",
    "    no_of_attributes = len(attributes)\n",
    "    classifiers = df[df.columns[no_of_attributes]].value_counts()\n",
    "    no_of_class= len(classifiers.index)\n",
    "    \n",
    "    #print(df.describe())\n",
    "\n",
    "    # use for list version list(test.keys())\n",
    "\n",
    "    prob={}\n",
    "    for i in list(classifiers.index):\n",
    "        prob[i]= 1;\n",
    "\n",
    "    for i in list(classifiers.index):\n",
    "        for j in test.keys():\n",
    "            prob[i] *= find_probability(i,j,test[j],df,classifiers[i],no_of_attributes);\n",
    "\n",
    "        prob[i] *= classifiers[i]/classifiers.count()\n",
    "\n",
    "\n",
    "    s=0\n",
    "    for i in list(classifiers.index):\n",
    "        s+=prob[i]\n",
    "\n",
    "    for i in list(classifiers.index):\n",
    "        prob[i]/=s\n",
    "        print('probability:  '+i,prob[i])\n",
    "\n",
    "    s=0\n",
    "    for i in list(classifiers.index):\n",
    "        if prob[i]>s:\n",
    "            s=prob[i]\n",
    "            j=i\n",
    "\n",
    "    return j"
   ]
  },
  {
   "cell_type": "code",
   "execution_count": 3,
   "metadata": {},
   "outputs": [
    {
     "name": "stdout",
     "output_type": "stream",
     "text": [
      "probability:  Yes 0.20458265139116202\n",
      "probability:  No 0.795417348608838\n",
      "No\n"
     ]
    }
   ],
   "source": [
    "test= {'OUTLOOK': 'Sunny', 'TEMPERATURE': 'Cool', 'HUMIDITY': 'High', 'WINDY': True}\n",
    "result= NB_Classifier(\"weather.csv\",test)\n",
    "print(result)"
   ]
  }
 ],
 "metadata": {
  "kernelspec": {
   "display_name": "Python 3",
   "language": "python",
   "name": "python3"
  },
  "language_info": {
   "codemirror_mode": {
    "name": "ipython",
    "version": 3
   },
   "file_extension": ".py",
   "mimetype": "text/x-python",
   "name": "python",
   "nbconvert_exporter": "python",
   "pygments_lexer": "ipython3",
   "version": "3.8.5"
  }
 },
 "nbformat": 4,
 "nbformat_minor": 4
}
