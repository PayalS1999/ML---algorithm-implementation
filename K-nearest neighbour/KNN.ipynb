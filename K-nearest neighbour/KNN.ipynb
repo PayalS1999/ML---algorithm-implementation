{
 "cells": [
  {
   "cell_type": "code",
   "execution_count": 1,
   "metadata": {},
   "outputs": [],
   "source": [
    "import pandas as pd\n",
    "import math\n",
    "\n",
    "def Euclidian_Distance(value1,value2,m):\n",
    "    ls= []\n",
    "    \n",
    "    for i in value1:\n",
    "        p=0\n",
    "        j=0\n",
    "        while(j<m):\n",
    "            p += (i[j] - value2[j])**2\n",
    "            j+=1\n",
    "        p= math.sqrt(p)\n",
    "        ls.append(p)\n",
    "        \n",
    "    return ls"
   ]
  },
  {
   "cell_type": "code",
   "execution_count": 2,
   "metadata": {},
   "outputs": [],
   "source": [
    "def KNN_algorithm(name,test):\n",
    "    \n",
    "    df= pd.read_csv(name)\n",
    "    \n",
    "    attributes = list(df.columns)\n",
    "    attributes= attributes[:-1]\n",
    "    no_of_attributes = len(attributes)\n",
    "    classifiers = df[df.columns[no_of_attributes]]\n",
    "    k=5\n",
    "\n",
    "    df2= pd.DataFrame()\n",
    "\n",
    "\n",
    "    for i in attributes:\n",
    "        test[i] = (test[i]-df[i].mean()) /df[i].std()\n",
    "        ls= []\n",
    "        for j in df[i]:\n",
    "            p= ( j-df[i].mean() ) /df[i].std()\n",
    "            ls.append(p)\n",
    "        df2[i]=ls\n",
    "\n",
    "    df2[\"Classes\"]= classifiers\n",
    "\n",
    "    ls = Euclidian_Distance(df2.values,list(test.values()),no_of_attributes)\n",
    "\n",
    "    df2[\"Euclidian distance\"]=ls\n",
    "\n",
    "    print(df2)\n",
    "\n",
    "    df3 = df2.sort_values(by= 'Euclidian distance')[:5]\n",
    "    r= df3[\"Classes\"].value_counts()\n",
    "\n",
    "    return r.index.max()"
   ]
  },
  {
   "cell_type": "code",
   "execution_count": 4,
   "metadata": {},
   "outputs": [
    {
     "name": "stdout",
     "output_type": "stream",
     "text": [
      "      Height    Weight Classes  Euclidian distance\n",
      "0  -1.387274 -1.644771       M            1.333320\n",
      "1  -1.387274 -1.265209       M            1.028301\n",
      "2  -1.387274  0.253042       M            1.028301\n",
      "3  -0.924849 -1.265209       M            0.793555\n",
      "4  -0.924849 -0.885646       M            0.444440\n",
      "5  -0.231212 -0.885646       M            0.598251\n",
      "6  -0.231212 -0.506084       M            0.462425\n",
      "7  -0.924849  0.632604       L            1.161925\n",
      "8  -0.231212  0.632604       L            1.229002\n",
      "9   0.231212 -0.506084       L            0.924849\n",
      "10  0.231212 -0.126521       L            0.999707\n",
      "11  0.231212  1.012167       L            1.777760\n",
      "12  0.924849 -0.126521       L            1.662397\n",
      "13  0.924849  0.253042       L            1.787671\n",
      "14  0.924849  1.391730       L            2.494232\n",
      "15  1.387274  0.253042       L            2.215053\n",
      "16  1.387274  0.632604       L            2.372087\n",
      "17  1.387274  2.150855       L            3.374835\n",
      "\n",
      "\n",
      "M\n"
     ]
    }
   ],
   "source": [
    "test={'Height':161, 'Weight':61}\n",
    "result= KNN_algorithm(\"t_shirt_size.csv\",test)\n",
    "print(\"\\n\\n\"+result)"
   ]
  }
 ],
 "metadata": {
  "kernelspec": {
   "display_name": "Python 3",
   "language": "python",
   "name": "python3"
  },
  "language_info": {
   "codemirror_mode": {
    "name": "ipython",
    "version": 3
   },
   "file_extension": ".py",
   "mimetype": "text/x-python",
   "name": "python",
   "nbconvert_exporter": "python",
   "pygments_lexer": "ipython3",
   "version": "3.8.5"
  }
 },
 "nbformat": 4,
 "nbformat_minor": 4
}
